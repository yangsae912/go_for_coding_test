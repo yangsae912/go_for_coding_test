{
  "nbformat": 4,
  "nbformat_minor": 0,
  "metadata": {
    "colab": {
      "provenance": [],
      "authorship_tag": "ABX9TyMs/SSiOqoD9QhIs6uVBpIj",
      "include_colab_link": true
    },
    "kernelspec": {
      "name": "python3",
      "display_name": "Python 3"
    },
    "language_info": {
      "name": "python"
    }
  },
  "cells": [
    {
      "cell_type": "markdown",
      "metadata": {
        "id": "view-in-github",
        "colab_type": "text"
      },
      "source": [
        "<a href=\"https://colab.research.google.com/github/yangsae912/go_for_coding_test/blob/master/%EB%AC%B8%EC%9E%90%EC%97%B4%EC%9E%AC%EC%A0%95%EB%A0%AC.ipynb\" target=\"_parent\"><img src=\"https://colab.research.google.com/assets/colab-badge.svg\" alt=\"Open In Colab\"/></a>"
      ]
    },
    {
      "cell_type": "markdown",
      "source": [
        "### 문자열 재정렬\n",
        "\n",
        "- sorted() 함수로 문자열(알파벳)을 오름차순으로 정렬\n",
        "- isdigit() 함수로 숫자 판별\n",
        "- isalpha() 함수로 알파벳 판별\n",
        "- join() 함수로 숫자와 알파벳 병합 후 출력"
      ],
      "metadata": {
        "id": "z8Jl5LVvfy_K"
      }
    },
    {
      "cell_type": "code",
      "execution_count": 23,
      "metadata": {
        "colab": {
          "base_uri": "https://localhost:8080/"
        },
        "id": "2cUYTO3EWgoy",
        "outputId": "925eaf73-d79b-4d58-ff8b-3db45cf0158c"
      },
      "outputs": [
        {
          "name": "stdout",
          "output_type": "stream",
          "text": [
            "K1KA5CB7\n"
          ]
        }
      ],
      "source": [
        "data = input()\n",
        "alphabets= []\n",
        "numbers = []"
      ]
    },
    {
      "cell_type": "code",
      "source": [
        "for char in data:\n",
        "  if char.isalpha():\n",
        "    alphabets += char\n",
        "  elif char.isdigit():\n",
        "    numbers += char\n",
        "sum_numbers = 0\n",
        "for number in numbers:\n",
        "  sum_numbers += int(number)\n",
        "print(sum_numbers)\n",
        "print(sorted(alphabets))\n"
      ],
      "metadata": {
        "colab": {
          "base_uri": "https://localhost:8080/"
        },
        "id": "IpETb8rxavo3",
        "outputId": "bf849b7e-a141-42d5-dfc3-e8965d38d9d1"
      },
      "execution_count": 24,
      "outputs": [
        {
          "output_type": "stream",
          "name": "stdout",
          "text": [
            "13\n",
            "['A', 'B', 'C', 'K', 'K']\n"
          ]
        }
      ]
    },
    {
      "cell_type": "code",
      "source": [
        "result = ''.join(sorted(alphabets)) + str(sum_numbers)\n",
        "print(result)"
      ],
      "metadata": {
        "colab": {
          "base_uri": "https://localhost:8080/"
        },
        "id": "5u67KB69floX",
        "outputId": "ee1c4cbc-073e-4fc3-8f7b-4d526fe38ac5"
      },
      "execution_count": 25,
      "outputs": [
        {
          "output_type": "stream",
          "name": "stdout",
          "text": [
            "ABCKK13\n"
          ]
        }
      ]
    },
    {
      "cell_type": "markdown",
      "source": [
        "- list comprehension"
      ],
      "metadata": {
        "id": "oUT52AJ8giLb"
      }
    },
    {
      "cell_type": "code",
      "source": [
        "sum_numbers = sum(int(number) for number in numbers)"
      ],
      "metadata": {
        "id": "QU8rGltmgf9-"
      },
      "execution_count": null,
      "outputs": []
    },
    {
      "cell_type": "markdown",
      "source": [
        "### 문자열 압축\n",
        "- 문자열 자르기 : slicing 을 사용하여 원하는 단위만큼 잘라낸다"
      ],
      "metadata": {
        "id": "Ee5JkqhOgyBY"
      }
    },
    {
      "cell_type": "code",
      "source": [
        "n = input()"
      ],
      "metadata": {
        "colab": {
          "base_uri": "https://localhost:8080/"
        },
        "id": "3UyrJ1Dkgz9s",
        "outputId": "b88d0a9a-b263-4b8b-82e6-f1e7f6f9e7e9"
      },
      "execution_count": 26,
      "outputs": [
        {
          "name": "stdout",
          "output_type": "stream",
          "text": [
            "HelloWorld\n"
          ]
        }
      ]
    },
    {
      "cell_type": "code",
      "source": [
        "cut_range = 0\n",
        "for cut in range(1, len(data)):\n",
        "  slice_str = [n[i:i+cut] for i in range(0,len(n), cut)]\n",
        "  print(cut, len(slice_str))"
      ],
      "metadata": {
        "colab": {
          "base_uri": "https://localhost:8080/"
        },
        "id": "03jt_3Nzkz0N",
        "outputId": "563a0ef9-0343-44a4-8304-280a7fbdaf13"
      },
      "execution_count": 30,
      "outputs": [
        {
          "output_type": "stream",
          "name": "stdout",
          "text": [
            "1 10\n",
            "2 5\n",
            "3 4\n",
            "4 3\n",
            "5 2\n",
            "6 2\n",
            "7 2\n"
          ]
        }
      ]
    },
    {
      "cell_type": "code",
      "source": [],
      "metadata": {
        "id": "LvguuPtdpnS4"
      },
      "execution_count": null,
      "outputs": []
    }
  ]
}