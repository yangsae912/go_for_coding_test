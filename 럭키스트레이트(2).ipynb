{
  "nbformat": 4,
  "nbformat_minor": 0,
  "metadata": {
    "colab": {
      "provenance": [],
      "authorship_tag": "ABX9TyNy627WsMt+t5ojd7Ts23Oi",
      "include_colab_link": true
    },
    "kernelspec": {
      "name": "python3",
      "display_name": "Python 3"
    },
    "language_info": {
      "name": "python"
    }
  },
  "cells": [
    {
      "cell_type": "markdown",
      "metadata": {
        "id": "view-in-github",
        "colab_type": "text"
      },
      "source": [
        "<a href=\"https://colab.research.google.com/github/yangsae912/go_for_coding_test/blob/master/%EB%9F%AD%ED%82%A4%EC%8A%A4%ED%8A%B8%EB%A0%88%EC%9D%B4%ED%8A%B8(2).ipynb\" target=\"_parent\"><img src=\"https://colab.research.google.com/assets/colab-badge.svg\" alt=\"Open In Colab\"/></a>"
      ]
    },
    {
      "cell_type": "markdown",
      "source": [
        "### 구현 문제\n",
        "\n",
        "- 완전 탐색 : 모든 경우의 수를 모두 계산해야 하기 때문에 반복문 혹은 재귀 함수를 사용하고, DFS/BFS 알고리즘을 이용해서 문제를 해결한다.\n",
        "- 시뮬레이션 : 복잡한 구현 요구사항을 그대로 코드로 옮긴다\n",
        "- 이외: 원소를 나열하는 모든 경우의 수(순열, 조합 라이브러리 사용) , 까다로운 문자열 처리, 소스코드의 양이 많은 문제 등"
      ],
      "metadata": {
        "id": "VScAUb1MdnCI"
      }
    },
    {
      "cell_type": "markdown",
      "source": [
        "--------\n",
        "\n",
        "### 7. 럭키 스트레이트"
      ],
      "metadata": {
        "id": "VCSzU3wRepB8"
      }
    },
    {
      "cell_type": "code",
      "execution_count": null,
      "metadata": {
        "colab": {
          "base_uri": "https://localhost:8080/"
        },
        "id": "dGQUqBN2dZpU",
        "outputId": "c2d50fb3-86d0-4a78-9b6e-b148b917fda9"
      },
      "outputs": [
        {
          "name": "stdout",
          "output_type": "stream",
          "text": [
            "123402\n"
          ]
        }
      ],
      "source": [
        "data = input()"
      ]
    },
    {
      "cell_type": "code",
      "source": [
        "if len(data) % 2 == 0:\n",
        "  middle = len(data) // 2\n",
        "  #왼쪽\n",
        "  sum_left = 0\n",
        "\n",
        "  for i in range(middle):\n",
        "    x = int(data[i])\n",
        "    print(x)\n",
        "    sum_left += x\n",
        "  print(\"sum_left ={}\".format(sum_left))\n",
        "\n",
        "  print(\"------------------\")\n",
        "  sum_right = 0\n",
        "  for j in range(middle, len(data)):\n",
        "    y = int(data[j])\n",
        "    print(y)\n",
        "    sum_right += y\n",
        "  print(\"sum_right = {}\".format(sum_right))\n",
        "  if sum_left == sum_right:\n",
        "    print(\"LUCKY\")\n",
        "  else:\n",
        "    print(\"READY\")\n",
        "\n",
        "  #오른쪽"
      ],
      "metadata": {
        "colab": {
          "base_uri": "https://localhost:8080/"
        },
        "id": "S7dn88kuflWH",
        "outputId": "4d7b1255-82b3-4d65-a7db-8475e50136d3"
      },
      "execution_count": null,
      "outputs": [
        {
          "output_type": "stream",
          "name": "stdout",
          "text": [
            "1\n",
            "2\n",
            "3\n",
            "sum_left =6\n",
            "------------------\n",
            "4\n",
            "0\n",
            "2\n",
            "sum_right = 6\n",
            "LUCKY\n"
          ]
        }
      ]
    },
    {
      "cell_type": "code",
      "source": [
        "data = input()"
      ],
      "metadata": {
        "id": "N6c1bDb7gUIG"
      },
      "execution_count": null,
      "outputs": []
    },
    {
      "cell_type": "code",
      "source": [
        "length = len(data)"
      ],
      "metadata": {
        "id": "TpgrDXSyW7qk"
      },
      "execution_count": null,
      "outputs": []
    },
    {
      "cell_type": "code",
      "source": [
        "summary = 0\n",
        "\n",
        "for i in range(length//2):\n",
        "  summary += int(n[i])\n",
        "\n",
        "for i in range(length//2, length):\n",
        "  summary -= int(n[i])\n",
        "if summary == 0:\n",
        "  print(\"LUCKY\")\n",
        "else:\n",
        "  print(\"READY\")"
      ],
      "metadata": {
        "id": "a_QA-LS5W9X9"
      },
      "execution_count": null,
      "outputs": []
    }
  ]
}