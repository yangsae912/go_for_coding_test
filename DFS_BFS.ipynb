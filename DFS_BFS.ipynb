{
  "nbformat": 4,
  "nbformat_minor": 0,
  "metadata": {
    "colab": {
      "provenance": [],
      "authorship_tag": "ABX9TyMUkIi/AC6SEYEhY8nQNGud",
      "include_colab_link": true
    },
    "kernelspec": {
      "name": "python3",
      "display_name": "Python 3"
    },
    "language_info": {
      "name": "python"
    }
  },
  "cells": [
    {
      "cell_type": "markdown",
      "metadata": {
        "id": "view-in-github",
        "colab_type": "text"
      },
      "source": [
        "<a href=\"https://colab.research.google.com/github/yangsae912/go_for_coding_test/blob/master/DFS_BFS.ipynb\" target=\"_parent\"><img src=\"https://colab.research.google.com/assets/colab-badge.svg\" alt=\"Open In Colab\"/></a>"
      ]
    },
    {
      "cell_type": "code",
      "execution_count": null,
      "metadata": {
        "id": "wR_2fH5U89wX"
      },
      "outputs": [],
      "source": [
        "#반복 구현 팩토리얼\n",
        "def factorial_iterative(n):\n",
        "  result = 1\n",
        "  for i in range(1, n+1):\n",
        "    result *= i\n",
        "  return result"
      ]
    },
    {
      "cell_type": "code",
      "source": [
        "#재귀 구현 팩토리얼\n",
        "def factorial_recursive(n):\n",
        "  if n <= 1:\n",
        "    return 1\n",
        "  return n * factorial_recursive(n -1)"
      ],
      "metadata": {
        "id": "Qi8etlyoB4xp"
      },
      "execution_count": null,
      "outputs": []
    },
    {
      "cell_type": "markdown",
      "source": [
        "인접 리스트: 그래프의 각 정점을 리스트로 표현하고 해당 정점과 인접한 정점들을 리스트의 원소로 저장하여 그래프를 표현하는 방법"
      ],
      "metadata": {
        "id": "O_ocHVSoFkYH"
      }
    },
    {
      "cell_type": "code",
      "source": [
        "#인접 리스트 (파이썬)\n",
        "graph = [[] for _ in range(3)]\n",
        "\n",
        "#첫 번째 정점과 인접한 정점 , 가중치\n",
        "graph[0].append((1,7))\n",
        "graph[0].append((2,5))\n",
        "\n",
        "#두 번째 정점과 인접한 정점, 가중치\n",
        "graph[1].append((0,7))\n",
        "\n",
        "#세 번째 정점과 인접한 정점, 가중치\n",
        "graph[2].append((0,5))\n",
        "\n",
        "print(graph)"
      ],
      "metadata": {
        "colab": {
          "base_uri": "https://localhost:8080/"
        },
        "id": "KA4CFK-LDCN9",
        "outputId": "582f4d96-4185-4895-ff9c-0b555f0f8a99"
      },
      "execution_count": null,
      "outputs": [
        {
          "output_type": "stream",
          "name": "stdout",
          "text": [
            "[[(1, 7), (2, 5)], [(0, 7)], [(0, 5)]]\n"
          ]
        }
      ]
    },
    {
      "cell_type": "markdown",
      "source": [
        "각 원소는 정점 번호를 나타내고, 해당 정점과 인접한 정점들의 리스트로 구성이 된 2차원 리스트 graph"
      ],
      "metadata": {
        "id": "AphhLsb0Hggy"
      }
    },
    {
      "cell_type": "code",
      "source": [
        "graph = [\n",
        "[],\n",
        "[2, 3, 8],\n",
        "[1, 7],\n",
        "[1, 4, 5],\n",
        "[3, 5],\n",
        "[3, 4],\n",
        "[7],\n",
        "[2, 6, =[8],\n",
        "[1, 7]\n",
        "]\n"
      ],
      "metadata": {
        "id": "CwaO0a_2D3-t"
      },
      "execution_count": null,
      "outputs": []
    },
    {
      "cell_type": "code",
      "source": [
        "visited = [False]*9"
      ],
      "metadata": {
        "id": "Wyg2P6B4IXUo"
      },
      "execution_count": null,
      "outputs": []
    },
    {
      "cell_type": "code",
      "source": [
        "def dfs(graph, v, visited):\n",
        "  visited[v] = True\n",
        "  print(v, end=' ')\n",
        "  for i in graph[v]:\n",
        "    if not visited[i]:\n",
        "      dfs(graph, i , visited)"
      ],
      "metadata": {
        "id": "zI4fZYdaHpwH"
      },
      "execution_count": null,
      "outputs": []
    },
    {
      "cell_type": "code",
      "source": [
        "from collections import deque\n",
        "\n",
        "def bfs(graph, start, visited):\n",
        "  queue = deque([start])\n",
        "  visited[start] = True\n",
        "  while queue:\n",
        "    v = queue.popleft()\n",
        "    print(v, end = ' ')\n",
        "    for i in graph[v]:\n",
        "      if not visited[i]:\n",
        "        queue.append(i)\n",
        "        visited[i] = True"
      ],
      "metadata": {
        "id": "XEo2KT7QOQlO"
      },
      "execution_count": null,
      "outputs": []
    },
    {
      "cell_type": "code",
      "source": [
        "dfs(graph, 1, visited)"
      ],
      "metadata": {
        "colab": {
          "base_uri": "https://localhost:8080/"
        },
        "id": "SHizUGeZJ_GK",
        "outputId": "727ceeca-6094-495e-8c22-e7022f5740f9"
      },
      "execution_count": null,
      "outputs": [
        {
          "output_type": "stream",
          "name": "stdout",
          "text": [
            "1 2 7 6 8 3 4 5 "
          ]
        }
      ]
    },
    {
      "cell_type": "code",
      "source": [
        "bfs(graph, 1, visited)"
      ],
      "metadata": {
        "colab": {
          "base_uri": "https://localhost:8080/"
        },
        "id": "lNjjyLUuKBBC",
        "outputId": "5c92c2a9-13cc-44bb-cc1a-a0b7980702e5"
      },
      "execution_count": null,
      "outputs": [
        {
          "output_type": "stream",
          "name": "stdout",
          "text": [
            "1 2 3 8 7 4 5 6 "
          ]
        }
      ]
    },
    {
      "cell_type": "code",
      "source": [],
      "metadata": {
        "id": "Q5FGlvwoOtk4"
      },
      "execution_count": null,
      "outputs": []
    }
  ]
}