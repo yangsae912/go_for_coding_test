{
  "nbformat": 4,
  "nbformat_minor": 0,
  "metadata": {
    "colab": {
      "provenance": [],
      "authorship_tag": "ABX9TyOOx+PfhLsWT9jAtyH43+8C",
      "include_colab_link": true
    },
    "kernelspec": {
      "name": "python3",
      "display_name": "Python 3"
    },
    "language_info": {
      "name": "python"
    }
  },
  "cells": [
    {
      "cell_type": "markdown",
      "metadata": {
        "id": "view-in-github",
        "colab_type": "text"
      },
      "source": [
        "<a href=\"https://colab.research.google.com/github/yangsae912/go_for_coding_test/blob/master/5_10_%EC%9D%8C%EB%A3%8C%EC%88%98_%EC%96%BC%EB%A0%A4_%EB%A8%B9%EA%B8%B0.ipynb\" target=\"_parent\"><img src=\"https://colab.research.google.com/assets/colab-badge.svg\" alt=\"Open In Colab\"/></a>"
      ]
    },
    {
      "cell_type": "markdown",
      "source": [
        "### 3. 음료수 얼려 먹기\n",
        "- 특정 지점의 주변 (상, 하, 좌, 우)를 살펴본 뒤에 주변 지점 중에서 값이 0이면서 아직 방문하지 않은 지점이 있다면 해당 지점을 방문\n",
        "- 방문한 지점에서 다시 주변(상, 하, 좌, 우)를 살펴보면서 방문을 다시 진행 -> 연결된 모든 지점을 방문\n",
        "- 모든 노드에 반복한다"
      ],
      "metadata": {
        "id": "H4534IUiJtQG"
      }
    },
    {
      "cell_type": "code",
      "execution_count": null,
      "metadata": {
        "colab": {
          "base_uri": "https://localhost:8080/"
        },
        "id": "gEi8hL3rIXR-",
        "outputId": "13f44f42-90e0-4acf-f895-47c979abe2f3"
      },
      "outputs": [
        {
          "name": "stdout",
          "output_type": "stream",
          "text": [
            "4 5\n"
          ]
        }
      ],
      "source": [
        "n,m = map(int, input().split())"
      ]
    },
    {
      "cell_type": "code",
      "source": [
        "#2차원 리스트의 맵 정보 입력\n",
        "graph = []\n",
        "\n",
        "for i in range(n):\n",
        "  graph.append(list(map(int, input())))"
      ],
      "metadata": {
        "id": "Ev2SASf3KP6D"
      },
      "execution_count": null,
      "outputs": []
    },
    {
      "cell_type": "code",
      "source": [
        "#DFS 로 특정 노드 방문 뒤 연결된 모든 노드 방문\n",
        "def dfs(x,y):\n",
        "  #범위 벗어나는 경우\n",
        "  if x <= 1 or x >= n or y <= 1 or y >= m:\n",
        "    return False\n",
        "  if graph[x][y] == 0:\n",
        "    graph[x][y] = 1\n",
        "    dfs(x-1,y) #좌\n",
        "    dfs(x,y-1) #하\n",
        "    dfs(x+1, y) #우\n",
        "    dfs(x, y+1) #상\n",
        "    return True # 0 에서 1로 graph[x][y]를 바꾼, 즉, 음료수를 채운 횟수를 구하기 위해 return True\n",
        "  return False\n"
      ],
      "metadata": {
        "id": "YcoEvzaPKTBD"
      },
      "execution_count": null,
      "outputs": []
    },
    {
      "cell_type": "code",
      "source": [
        "#모든 노드에 대해 반복 (음료수 채우기)\n",
        "result = 0\n",
        "for i in range(n):\n",
        "  for j in range(m):\n",
        "    if dfs(i, j) == True:\n",
        "      result += 1\n",
        "print(result)\n"
      ],
      "metadata": {
        "id": "e9-r785QKXGa"
      },
      "execution_count": null,
      "outputs": []
    },
    {
      "cell_type": "markdown",
      "source": [
        "### 4. 미로 탈출\n",
        "\n",
        "- (1,1)의 위치에서 시작하여 상, 하, 좌, 우로 탐색하여 진행한다.\n",
        "- (1,2)가 1이라면 (1,2)의 노드 값을 2로 바꾼다.\n",
        "- BFS 를 계속 수행하여 결과적으로 최단 경로의 값들이 1씩 증가하는 형태로 변경한다."
      ],
      "metadata": {
        "id": "0Th-cY2oPs7B"
      }
    },
    {
      "cell_type": "code",
      "source": [
        "from collections import deque\n",
        "\n",
        "def bfs(graph, start, visited):\n",
        "  queue = deque([start])\n",
        "  visited[start] = True\n",
        "  while queue:\n",
        "    v = queue.popleft()\n",
        "    print(v, end = ' ')\n",
        "    for i in graph[v]:\n",
        "      if not visited[i]:\n",
        "        queue.append(i)\n",
        "        visited[i] = True"
      ],
      "metadata": {
        "id": "B_06YklmKJn_"
      },
      "execution_count": null,
      "outputs": []
    },
    {
      "cell_type": "code",
      "source": [
        "#n,m 입력받기\n",
        "n,m = map(int, input().split())"
      ],
      "metadata": {
        "id": "0QMc8qClRrI6"
      },
      "execution_count": null,
      "outputs": []
    },
    {
      "cell_type": "code",
      "source": [
        "#2차원 리스트의 맵 정보 받기\n",
        "graph = []\n",
        "for i in range(n):\n",
        "  graph.append(list(map(int, input().split())))"
      ],
      "metadata": {
        "id": "rnewotf2Rtc2"
      },
      "execution_count": null,
      "outputs": []
    },
    {
      "cell_type": "code",
      "source": [
        "#이동할 네 방향 정의\n",
        "dx = [-1,0,0,1]\n",
        "dy = [0,-1,1,0]"
      ],
      "metadata": {
        "id": "AYakMQQ1RvGN"
      },
      "execution_count": null,
      "outputs": []
    },
    {
      "cell_type": "code",
      "source": [
        "#BFS\n",
        "def bfs(x,y):\n",
        "  queue = deque()\n",
        "  queue.append((x,y))\n",
        "\n",
        "  while queue:\n",
        "    x,y = queue.popleft()\n",
        "    for i in range(4):\n",
        "      #(x-1,y), (x,y-1),(x,y+1),(x+1,y)\n",
        "      nx = x + dx[i]\n",
        "      ny = y + dy[i]\n",
        "      #이동할 수 없는 경우\n",
        "      if nx < 0  or ny < 0 or nx >= n or ny >= m:\n",
        "        continue\n",
        "      if graph[nx][ny] == 0:\n",
        "        continue\n",
        "      #이동할 수 있는 경우\n",
        "      if graph[nx][ny] == 1:\n",
        "        graph[nx][ny] = graph[x][y] + 1\n",
        "        queue.append((nx,ny))\n",
        "    #가장 오른쪽 최단 거리 반환\n",
        "    #해당 문제에서는 단순히 가장 오른쪽 아래 위치로 이동하는 것을 요구\n",
        "    return graph[n-1][m-1]\n"
      ],
      "metadata": {
        "id": "tbjshxcdRwk3"
      },
      "execution_count": null,
      "outputs": []
    },
    {
      "cell_type": "code",
      "source": [
        "print(bfs(0,0))"
      ],
      "metadata": {
        "id": "e-CvZ_rLRxmL"
      },
      "execution_count": null,
      "outputs": []
    }
  ]
}