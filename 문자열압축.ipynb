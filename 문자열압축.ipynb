{
  "nbformat": 4,
  "nbformat_minor": 0,
  "metadata": {
    "colab": {
      "provenance": [],
      "authorship_tag": "ABX9TyMew6lD8MELYRHvQZKQYCkj",
      "include_colab_link": true
    },
    "kernelspec": {
      "name": "python3",
      "display_name": "Python 3"
    },
    "language_info": {
      "name": "python"
    }
  },
  "cells": [
    {
      "cell_type": "markdown",
      "metadata": {
        "id": "view-in-github",
        "colab_type": "text"
      },
      "source": [
        "<a href=\"https://colab.research.google.com/github/yangsae912/go_for_coding_test/blob/master/%EB%AC%B8%EC%9E%90%EC%97%B4%EC%95%95%EC%B6%95.ipynb\" target=\"_parent\"><img src=\"https://colab.research.google.com/assets/colab-badge.svg\" alt=\"Open In Colab\"/></a>"
      ]
    },
    {
      "cell_type": "markdown",
      "source": [
        "### 문자열 압축\n",
        "- 문자열 자르기 : slicing 을 사용하여 원하는 단위만큼 잘라낸다"
      ],
      "metadata": {
        "id": "FjnIdaHAAJEE"
      }
    },
    {
      "cell_type": "code",
      "execution_count": null,
      "metadata": {
        "colab": {
          "base_uri": "https://localhost:8080/"
        },
        "id": "oPRzcCLf-vbM",
        "outputId": "e334c88a-546a-41bb-e680-8c2811fce766"
      },
      "outputs": [
        {
          "name": "stdout",
          "output_type": "stream",
          "text": [
            "HelloWorld\n"
          ]
        }
      ],
      "source": [
        "n = input()"
      ]
    },
    {
      "cell_type": "code",
      "source": [
        "cut_range = 0\n",
        "for cut in range(1, len(n)):\n",
        "   if cut * len(slice_str) > len(n):\n",
        "      len(slice_str) == 1\n",
        "   slice_str = [n[i:i+cut] for i in range(0,len(n), cut)]\n",
        "\n",
        "   print(cut, len(slice_str))"
      ],
      "metadata": {
        "colab": {
          "base_uri": "https://localhost:8080/"
        },
        "id": "40rrAv7sAHcy",
        "outputId": "bae9c3b2-a67a-4cc3-a5bc-232b32d4a66c"
      },
      "execution_count": null,
      "outputs": [
        {
          "output_type": "stream",
          "name": "stdout",
          "text": [
            "1 10\n",
            "2 5\n",
            "3 4\n",
            "4 3\n",
            "5 2\n",
            "6 2\n",
            "7 2\n",
            "8 2\n",
            "9 2\n"
          ]
        }
      ]
    },
    {
      "cell_type": "markdown",
      "source": [
        "### 자물쇠와 열쇠\n",
        "- 0은 홈, 1은 돌기 부분을 나타낸다\n",
        "- 자물쇠 리스트에 열쇠 리스트의 값을 더한 뒤에 더한 결과를 확인했을 때 자물쇠 부분의 모든 값이 1인지 확인해야 한다\n",
        "- 모든 값이 1이라면, 자물쇠의 홈 부분을 정확히 채운 것이다"
      ],
      "metadata": {
        "id": "pRG8o44FBgjX"
      }
    },
    {
      "cell_type": "code",
      "source": [
        "#2차원 리스트 90도 회전\n",
        "def rotate_by_90_degree(a):\n",
        "  n = len(a)\n",
        "  m = len(a[0])\n",
        "  result = [[0] * n for _ in range(m)]\n",
        "  for i in range(n):\n",
        "    for j in range(m):\n",
        "      result[j][n-i-1] = a[i][j]\n",
        "  return result"
      ],
      "metadata": {
        "id": "3u5t_1jnEYcJ"
      },
      "execution_count": null,
      "outputs": []
    },
    {
      "cell_type": "code",
      "source": [
        "#자물쇠의 중간 부분이 모두 1인지 확인\n",
        "def check(new_lock):\n",
        "  lock_length = len(new_lock) // 3\n",
        "  for i in range(lock_length, lock_length * 2 )"
      ],
      "metadata": {
        "id": "ucuFTls4HrkA"
      },
      "execution_count": null,
      "outputs": []
    },
    {
      "cell_type": "code",
      "source": [
        "def solution(key, lock):\n",
        "    answer = True\n",
        "    return answer"
      ],
      "metadata": {
        "id": "YUDzSR_qAKip"
      },
      "execution_count": null,
      "outputs": []
    }
  ]
}