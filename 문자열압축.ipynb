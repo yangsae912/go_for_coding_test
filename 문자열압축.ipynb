{
  "nbformat": 4,
  "nbformat_minor": 0,
  "metadata": {
    "colab": {
      "provenance": [],
      "authorship_tag": "ABX9TyOzYYpfh4dVxj7sdQq3NimI",
      "include_colab_link": true
    },
    "kernelspec": {
      "name": "python3",
      "display_name": "Python 3"
    },
    "language_info": {
      "name": "python"
    }
  },
  "cells": [
    {
      "cell_type": "markdown",
      "metadata": {
        "id": "view-in-github",
        "colab_type": "text"
      },
      "source": [
        "<a href=\"https://colab.research.google.com/github/yangsae912/go_for_coding_test/blob/master/%EB%AC%B8%EC%9E%90%EC%97%B4%EC%95%95%EC%B6%95.ipynb\" target=\"_parent\"><img src=\"https://colab.research.google.com/assets/colab-badge.svg\" alt=\"Open In Colab\"/></a>"
      ]
    },
    {
      "cell_type": "markdown",
      "source": [
        "### 문자열 압축\n",
        "- 문자열 자르기 : slicing 을 사용하여 원하는 단위만큼 잘라낸다"
      ],
      "metadata": {
        "id": "FjnIdaHAAJEE"
      }
    },
    {
      "cell_type": "code",
      "execution_count": 16,
      "metadata": {
        "colab": {
          "base_uri": "https://localhost:8080/"
        },
        "id": "oPRzcCLf-vbM",
        "outputId": "ec2825ad-d8c6-4062-e0f8-80b418dd97ad"
      },
      "outputs": [
        {
          "name": "stdout",
          "output_type": "stream",
          "text": [
            "aaaabbabbabb\n"
          ]
        }
      ],
      "source": [
        "data = input()"
      ]
    },
    {
      "cell_type": "code",
      "source": [
        "n = len(data)"
      ],
      "metadata": {
        "id": "vt46W5ujM-lY"
      },
      "execution_count": 17,
      "outputs": []
    },
    {
      "cell_type": "code",
      "source": [
        "cut_range = 0\n",
        "\n",
        "for cut in range(1, n//2 + 1):\n",
        "  i = 0  # i 변수 초기화\n",
        "  print(cut)\n",
        "  while i < n:\n",
        "  #for i in range(0,n, cut+i):\n",
        "    print('data[{}:{}] = {}'.format(i, i+cut ,data[i:i+cut]))\n",
        "    i += cut\n",
        "\n",
        "    #cut 증가 후 이전 문자열과 비교\n",
        "    #이전 상태와 동일하면 압축 횟수 증가"
      ],
      "metadata": {
        "colab": {
          "base_uri": "https://localhost:8080/"
        },
        "id": "BZqP9FzPM-D4",
        "outputId": "b51a36bb-cefc-47e5-d3ad-7dc3b2841d91"
      },
      "execution_count": 18,
      "outputs": [
        {
          "output_type": "stream",
          "name": "stdout",
          "text": [
            "1\n",
            "data[0:1] = a\n",
            "data[1:2] = a\n",
            "data[2:3] = a\n",
            "data[3:4] = a\n",
            "data[4:5] = b\n",
            "data[5:6] = b\n",
            "data[6:7] = a\n",
            "data[7:8] = b\n",
            "data[8:9] = b\n",
            "data[9:10] = a\n",
            "data[10:11] = b\n",
            "data[11:12] = b\n",
            "2\n",
            "data[0:2] = aa\n",
            "data[2:4] = aa\n",
            "data[4:6] = bb\n",
            "data[6:8] = ab\n",
            "data[8:10] = ba\n",
            "data[10:12] = bb\n",
            "3\n",
            "data[0:3] = aaa\n",
            "data[3:6] = abb\n",
            "data[6:9] = abb\n",
            "data[9:12] = abb\n",
            "4\n",
            "data[0:4] = aaaa\n",
            "data[4:8] = bbab\n",
            "data[8:12] = babb\n",
            "5\n",
            "data[0:5] = aaaab\n",
            "data[5:10] = babba\n",
            "data[10:15] = bb\n",
            "6\n",
            "data[0:6] = aaaabb\n",
            "data[6:12] = abbabb\n"
          ]
        }
      ]
    },
    {
      "cell_type": "markdown",
      "source": [
        "### 자물쇠와 열쇠\n",
        "- 0은 홈, 1은 돌기 부분을 나타낸다\n",
        "- 자물쇠 리스트에 열쇠 리스트의 값을 더한 뒤에 더한 결과를 확인했을 때 자물쇠 부분의 모든 값이 1인지 확인해야 한다\n",
        "- 모든 값이 1이라면, 자물쇠의 홈 부분을 정확히 채운 것이다"
      ],
      "metadata": {
        "id": "pRG8o44FBgjX"
      }
    },
    {
      "cell_type": "code",
      "source": [
        "#2차원 리스트 90도 회전\n",
        "def rotate_by_90_degree(a):\n",
        "  n = len(a)\n",
        "  m = len(a[0])\n",
        "  result = [[0] * n for _ in range(m)]\n",
        "  for i in range(n):\n",
        "    for j in range(m):\n",
        "      result[j][n-i-1] = a[i][j]\n",
        "  return result"
      ],
      "metadata": {
        "id": "3u5t_1jnEYcJ"
      },
      "execution_count": null,
      "outputs": []
    },
    {
      "cell_type": "code",
      "source": [
        "#자물쇠의 중간 부분이 모두 1인지 확인\n",
        "def check(new_lock):\n",
        "  lock_length = len(new_lock) // 3\n",
        "  for i in range(lock_length, lock_length * 2 )"
      ],
      "metadata": {
        "id": "ucuFTls4HrkA"
      },
      "execution_count": null,
      "outputs": []
    },
    {
      "cell_type": "code",
      "source": [
        "def solution(key, lock):\n",
        "    answer = True\n",
        "    return answer"
      ],
      "metadata": {
        "id": "YUDzSR_qAKip"
      },
      "execution_count": null,
      "outputs": []
    }
  ]
}